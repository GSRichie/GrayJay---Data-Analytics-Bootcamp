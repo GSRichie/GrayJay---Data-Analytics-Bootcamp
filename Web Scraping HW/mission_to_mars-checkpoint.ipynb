{
 "cells": [
  {
   "cell_type": "code",
   "execution_count": 2,
   "metadata": {},
   "outputs": [
    {
     "name": "stdout",
     "output_type": "stream",
     "text": [
      "Collecting splinter\n",
      "  Downloading https://files.pythonhosted.org/packages/6e/86/fe3b6771846165ce8dc88996aa8e0846d0e6839e7c5a74f4e34ba30e1019/splinter-0.10.0.tar.gz\n",
      "Collecting selenium>=3.141.0 (from splinter)\n",
      "  Downloading https://files.pythonhosted.org/packages/80/d6/4294f0b4bce4de0abf13e17190289f9d0613b0a44e5dd6a7f5ca98459853/selenium-3.141.0-py2.py3-none-any.whl (904kB)\n",
      "Requirement already satisfied: urllib3 in c:\\users\\gsric\\anaconda3\\lib\\site-packages (from selenium>=3.141.0->splinter) (1.24.1)\n",
      "Building wheels for collected packages: splinter\n",
      "  Running setup.py bdist_wheel for splinter: started\n",
      "  Running setup.py bdist_wheel for splinter: finished with status 'done'\n",
      "  Stored in directory: C:\\Users\\GSRic\\AppData\\Local\\pip\\Cache\\wheels\\bf\\84\\ac\\a20812d36ebef78ebe202d8afdc6a1e8935023d1ee6e3b8c06\n",
      "Successfully built splinter\n",
      "Installing collected packages: selenium, splinter\n",
      "Successfully installed selenium-3.141.0 splinter-0.10.0\n"
     ]
    }
   ],
   "source": [
    "! python -m pip install splinter"
   ]
  },
  {
   "cell_type": "code",
   "execution_count": 6,
   "metadata": {},
   "outputs": [],
   "source": [
    "import pandas as pd\n",
    "from bs4 import BeautifulSoup\n",
    "import urllib\n",
    "import pprint\n",
    "import requests\n",
    "from splinter import Browser\n",
    "import time"
   ]
  },
  {
   "cell_type": "code",
   "execution_count": 7,
   "metadata": {},
   "outputs": [],
   "source": [
    "import os\n",
    "from selenium import webdriver"
   ]
  },
  {
   "cell_type": "code",
   "execution_count": null,
   "metadata": {},
   "outputs": [],
   "source": [
    "executable_path = {'executable_path': r'C:\\Users\\GSRic\\Downloads\\chromedriver_win32\\chromedriver.exe'}\n"
   ]
  },
  {
   "cell_type": "code",
   "execution_count": null,
   "metadata": {},
   "outputs": [],
   "source": [
    "browser = Browser('chrome', **executable_path)"
   ]
  }
 ],
 "metadata": {
  "kernelspec": {
   "display_name": "Python 3",
   "language": "python",
   "name": "python3"
  },
  "language_info": {
   "codemirror_mode": {
    "name": "ipython",
    "version": 3
   },
   "file_extension": ".py",
   "mimetype": "text/x-python",
   "name": "python",
   "nbconvert_exporter": "python",
   "pygments_lexer": "ipython3",
   "version": "3.7.1"
  }
 },
 "nbformat": 4,
 "nbformat_minor": 2
}
